{
 "cells": [
  {
   "cell_type": "markdown",
   "metadata": {},
   "source": [
    "<img src=\"../../images/greenly_tech.png\" width=\"200\" style=\"float: right; margin-right: 7px; margin-top: 7px;\" />\n",
    "\n",
    "# MLOps (Machine Learning Operations)\n",
    "\n",
    "https://ml-ops.org/"
   ]
  },
  {
   "cell_type": "markdown",
   "metadata": {},
   "source": [
    "## Three Levels of Change\n",
    "\n",
    "https://ml-ops.org/content/motivation"
   ]
  },
  {
   "cell_type": "markdown",
   "metadata": {},
   "source": [
    "<img src=\"../../images/levels_of_change.jpg\" width=\"400\">"
   ]
  },
  {
   "cell_type": "markdown",
   "metadata": {},
   "source": [
    "## Machine Learning Engineering\n",
    "\n",
    "https://ml-ops.org/content/end-to-end-ml-workflow\n",
    "\n",
    "https://ml-ops.org/content/three-levels-of-ml-software"
   ]
  },
  {
   "cell_type": "markdown",
   "metadata": {},
   "source": [
    "<img src=\"../../images/ml_engineering.jpeg\" width=\"700\">"
   ]
  },
  {
   "cell_type": "markdown",
   "metadata": {},
   "source": [
    "### Data: Data Engineering Pipelines\n",
    "\n",
    "- Data Ingestion\n",
    "- Exploration and Validation\n",
    "- Data Wrangling (Cleaning)\n",
    "- Data Splitting"
   ]
  },
  {
   "cell_type": "markdown",
   "metadata": {},
   "source": [
    "### Model: Machine Learning Pipelines\n",
    "\n",
    "- Model Training\n",
    "- Model Evaluation\n",
    "- Model Testing\n",
    "- Model Packaging"
   ]
  },
  {
   "cell_type": "markdown",
   "metadata": {},
   "source": [
    "<img src=\"../../images/model_patterns.jpg\" width=\"500\">\n",
    "<img src=\"../../images/model_services.jpeg\" width=\"500\">\n",
    "<img src=\"../../images/model_online.jpeg\" width=\"400\">"
   ]
  },
  {
   "cell_type": "markdown",
   "metadata": {},
   "source": [
    "### Code: Deployment Pipelines\n",
    "\n",
    "- Model Serving\n",
    "- Model Performance Monitoring\n",
    "- Model Performance Logging"
   ]
  },
  {
   "cell_type": "markdown",
   "metadata": {},
   "source": [
    "#### Model Serving Patterns\n",
    "\n",
    "<img src=\"../../images/model_as_service.jpg\" width=\"600\">\n",
    "<img src=\"../../images/model_as_dependency.jpg\" width=\"300\">\n",
    "<img src=\"../../images/precompute_serving.jpeg\" width=\"300\">\n",
    "<img src=\"../../images/model_on_demand.jpeg\" width=\"400\">\n",
    "<img src=\"../../images/federated_learning.jpeg\" width=\"500\">"
   ]
  },
  {
   "cell_type": "markdown",
   "metadata": {},
   "source": [
    "#### Deployment Strategies\n",
    "\n",
    "<img src=\"../../images/infra_cloud.jpg\" width=\"400\">\n",
    "<img src=\"../../images/infra_lambda.jpeg\" width=\"400\">"
   ]
  },
  {
   "cell_type": "markdown",
   "metadata": {},
   "source": [
    "## MLOps Principles\n",
    "\n",
    "https://ml-ops.org/content/mlops-principles"
   ]
  },
  {
   "cell_type": "markdown",
   "metadata": {},
   "source": []
  },
  {
   "cell_type": "markdown",
   "metadata": {},
   "source": []
  },
  {
   "cell_type": "markdown",
   "metadata": {},
   "source": []
  }
 ],
 "metadata": {
  "language_info": {
   "name": "python"
  }
 },
 "nbformat": 4,
 "nbformat_minor": 2
}
